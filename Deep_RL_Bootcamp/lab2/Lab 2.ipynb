{
 "cells": [
  {
   "cell_type": "code",
   "execution_count": 1,
   "metadata": {
    "collapsed": true
   },
   "outputs": [],
   "source": [
    "\"\"\"\n",
    "This project was developed by Peter Chen, Rocky Duan, Pieter Abbeel for the Berkeley Deep RL Bootcamp, August 2017.\n",
    "Bootcamp website with slides and lecture videos: https://sites.google.com/view/deep-rl-bootcamp/.\n",
    "\n",
    "Code adapted from Stanford CS231N materials: http://cs231n.stanford.edu/\n",
    "\"\"\"\n",
    "\n",
    "\n",
    "# note to properly run this lab, you should execute all code blocks sequentially\n",
    "import chainer\n",
    "import chainer.functions as F\n",
    "import chainer.links as L\n",
    "from chainer import training\n",
    "from chainer.training import extensions\n",
    "\n",
    "from collections import namedtuple, defaultdict, deque\n",
    "\n",
    "import numpy as np\n",
    "\n",
    "%matplotlib inline\n",
    "\n",
    "import matplotlib\n",
    "import matplotlib.pyplot as plt"
   ]
  },
  {
   "cell_type": "markdown",
   "metadata": {},
   "source": [
    "## Introduction to Chainer\n",
    "\n",
    "Chainer can be understood as Numpy plus the ability to record the computation graph of numerical operations to enable Automatic Differentiation. (Chainer actually also offers many other things; for example, a Numpy equivalent library that runs on GPU, but we will ignore them for now)"
   ]
  },
  {
   "cell_type": "markdown",
   "metadata": {},
   "source": [
    "Let's illustrate how Chainer works by a simple 1D regression task.\n",
    "\n",
    "Suppose we have observations from the following model $y = w x + b + \\epsilon$ where $\\epsilon \\sim \\mathcal{N}(0, 0.1)$ and the task is to estimate the linear model parameters $w, b$ from data."
   ]
  },
  {
   "cell_type": "code",
   "execution_count": 2,
   "metadata": {},
   "outputs": [
    {
     "data": {
      "image/png": "[encoded data removed]",
      "text/plain": [
       "<matplotlib.figure.Figure at 0x9bbf6d8>"
      ]
     },
     "metadata": {},
     "output_type": "display_data"
    }
   ],
   "source": [
    "# first generate some observations\n",
    "true_a = 1.3\n",
    "true_b = 0.4\n",
    "data_x = (np.arange(100) / 99.0 - .5).astype(np.float32) # Chainer assumes all the cpu computation is done in float32\n",
    "data_y = (data_x * true_a + true_b + np.random.randn(*data_x.shape) * 0.1).astype(np.float32)\n",
    "_ = plt.scatter(data_x, data_y, c='b')"
   ]
  },
  {
   "cell_type": "markdown",
   "metadata": {},
   "source": [
    "Chainer provides an abstraction called `Link` that describe some computation and keeps track of parameters for it. For instance, a `Linear` link describes a linear map on input and keeps track of `w` and bias `b`."
   ]
  },
  {
   "cell_type": "code",
   "execution_count": 3,
   "metadata": {},
   "outputs": [
    {
     "name": "stdout",
     "output_type": "stream",
     "text": [
      "w: variable W([[ 0.24163038]])\n",
      "b: variable b([ 0.])\n",
      "Operations on chainer.Variable: variable([[ 123.24163055]]), type: <class 'chainer.variable.Variable'>\n",
      "numpy arrays: [[ 0.24163038]] [[ 123.24163055]]\n"
     ]
    }
   ],
   "source": [
    "model = L.Linear(in_size=1, out_size=1) # input is 1D data and output is also 1D data\n",
    "\n",
    "# Chainer will randomly initialize `w` and `b` for us.\n",
    "# we can take a look at their values\n",
    "print(\"w:\", model.W)\n",
    "print(\"b:\", model.b)\n",
    "\n",
    "# model.W and model.b have type `chainer.Variable`, \n",
    "#   which is a wrapper around Numpy array\n",
    "assert isinstance(model.W, chainer.Variable)\n",
    "\n",
    "# operations that involve `chainer.Variable` will produce\n",
    "#   `chainer.Variable` and this records the computation graph\n",
    "var_result = model.W + 123 # some random computation\n",
    "print(\"Operations on chainer.Variable: %s, type: %s\" % (var_result, type(var_result)))\n",
    "\n",
    "# the underlying numpy array can be accessed by `data` attribute\n",
    "print(\"numpy arrays:\", model.W.data, var_result.data)"
   ]
  },
  {
   "cell_type": "code",
   "execution_count": 4,
   "metadata": {},
   "outputs": [
    {
     "data": {
      "image/png": "[encoded data removed]",
      "text/plain": [
       "<matplotlib.figure.Figure at 0xa21b550>"
      ]
     },
     "metadata": {},
     "output_type": "display_data"
    }
   ],
   "source": [
    "# A chainer link is a callable object. calling it performs the\n",
    "#   forward computation. (in this case, it performs Wx + b)\n",
    "model_y = model(data_x[:, None]) # chainer's link usually assumes input is [Batch Size, Input Dimension]\n",
    "# `model_y` is a chainer variable so we use `.data` to access its numpy array for plotting\n",
    "\n",
    "# we can plot the model's current fit in red. it should be terrible because we haven't trained it yet\n",
    "_ = plt.plot(data_x, model_y.data[:,0], c='r')\n",
    "_ = plt.scatter(data_x, data_y, c='b')\n",
    "_ = plt.title(\"Initial model\")"
   ]
  },
  {
   "cell_type": "code",
   "execution_count": 8,
   "metadata": {},
   "outputs": [
    {
     "name": "stdout",
     "output_type": "stream",
     "text": [
      "loss variable(0.29302483797073364)\n",
      "dloss/dW [[-0.18735619]]\n"
     ]
    }
   ],
   "source": [
    "# now let's walk through how to perform forward computation\n",
    "#  and use AD to get gradients\n",
    "\n",
    "# first we clear the gradients that are stored in the model\n",
    "model.cleargrads()\n",
    "# as we have seen we can perform forward computation by calling the link\n",
    "model_y = model(data_x[:, None])\n",
    "\n",
    "# remember that `model_y` is a chainer variable. to operate on chainer variable\n",
    "#    we will use functions from chainer.functions to operate on those objects.\n",
    "loss = F.mean(F.square(model_y - data_y[:, None]))\n",
    "# `loss` is a scalar chainer variable\n",
    "assert isinstance(loss, chainer.Variable)\n",
    "print(\"loss\", loss)\n",
    "# calculating gradients d loss /d params is as simple as\n",
    "loss.backward()\n",
    "\n",
    "# we can inspect the gradient of loss with respect to W\n",
    "print(\"dloss/dW\", model.W.grad)"
   ]
  },
  {
   "cell_type": "markdown",
   "metadata": {},
   "source": [
    "Now that we know how to calculate gradients, we can code up a simple loop to perform gradient descent to train this model:\n",
    "\n",
    "(Hint: if you run into weird problems, maybe the state has been messed up and you can try re-runing all the code blocks from the beginning)"
   ]
  },
  {
   "cell_type": "code",
   "execution_count": 11,
   "metadata": {},
   "outputs": [
    {
     "name": "stdout",
     "output_type": "stream",
     "text": [
      "Itr 0 loss: variable(0.2238878607749939)\n",
      "Itr 25 loss: variable(0.10639268904924393)\n",
      "Itr 50 loss: variable(0.06206352263689041)\n",
      "Itr 75 loss: variable(0.04450489580631256)\n",
      "Itr 100 loss: variable(0.03681071847677231)\n",
      "Itr 125 loss: variable(0.032814912497997284)\n",
      "Itr 150 loss: variable(0.030263304710388184)\n",
      "Itr 175 loss: variable(0.028327085077762604)\n",
      "Itr 200 loss: variable(0.02669709362089634)\n",
      "Itr 225 loss: variable(0.025254065170884132)\n",
      "Itr 250 loss: variable(0.0239484254270792)\n",
      "Itr 275 loss: variable(0.022756442427635193)\n",
      "Itr 300 loss: variable(0.02166430465877056)\n",
      "Itr 325 loss: variable(0.02066218852996826)\n",
      "Itr 350 loss: variable(0.019742168486118317)\n",
      "Itr 375 loss: variable(0.018897321075201035)\n",
      "Itr 400 loss: variable(0.018121441826224327)\n",
      "Itr 425 loss: variable(0.017408858984708786)\n",
      "Itr 450 loss: variable(0.016754407435655594)\n",
      "Itr 475 loss: variable(0.016153352335095406)\n",
      "Itr 500 loss: variable(0.015601318329572678)\n",
      "Itr 525 loss: variable(0.015094303525984287)\n",
      "Itr 550 loss: variable(0.014628657139837742)\n",
      "Itr 575 loss: variable(0.014200994744896889)\n",
      "Itr 600 loss: variable(0.013808205723762512)\n",
      "Itr 625 loss: variable(0.01344746071845293)\n",
      "Itr 650 loss: variable(0.013116142712533474)\n",
      "Itr 675 loss: variable(0.012811854481697083)\n",
      "Itr 700 loss: variable(0.012532387860119343)\n",
      "Itr 725 loss: variable(0.012275720946490765)\n",
      "Itr 750 loss: variable(0.012039980851113796)\n",
      "Itr 775 loss: variable(0.011823468841612339)\n",
      "Itr 800 loss: variable(0.011624625883996487)\n",
      "Itr 825 loss: variable(0.011441992595791817)\n",
      "Itr 850 loss: variable(0.011274260468780994)\n",
      "Itr 875 loss: variable(0.011120212264358997)\n",
      "Itr 900 loss: variable(0.010978725738823414)\n",
      "Itr 925 loss: variable(0.01084877923130989)\n",
      "Itr 950 loss: variable(0.010729435831308365)\n",
      "Itr 975 loss: variable(0.010619833134114742)\n"
     ]
    },
    {
     "data": {
      "image/png": "[encoded data removed]",
      "text/plain": [
       "<matplotlib.figure.Figure at 0x9f20e80>"
      ]
     },
     "metadata": {},
     "output_type": "display_data"
    },
    {
     "data": {
      "image/png": "[encoded data removed]",
      "text/plain": [
       "<matplotlib.figure.Figure at 0x9f22ef0>"
      ]
     },
     "metadata": {},
     "output_type": "display_data"
    }
   ],
   "source": [
    "# now we can perform gradient descent to improve this model\n",
    "model = L.Linear(in_size=1, out_size=1)\n",
    "losses = []\n",
    "\n",
    "lr = 0.01\n",
    "\n",
    "for i in range(1000):\n",
    "    model.cleargrads()\n",
    "    loss = F.mean(F.square(model(data_x[:, None]) - data_y[:, None]))\n",
    "    losses.append(float(loss.data))\n",
    "    ## *** YOUR CODE HERE TO PERFORM GRADIENT DESCENT ***\n",
    "    ## Hint: you could access gradients with model.W.grad, model.b.grad\n",
    "    ## Hint2: you could write data into a parameter with model.W.data[:] = some_numpy_array\n",
    "    ## Hint3: if your model doesn't learn, remember to try different learning rates\n",
    "    loss.backward()\n",
    "    \n",
    "    model.W.data[:] -= lr*model.W.grad\n",
    "    model.b.data[:] -= lr*model.b.grad\n",
    "    \n",
    "    if i % 25 == 0:\n",
    "        print(\"Itr\", i, \"loss:\", loss)\n",
    "plt.plot(np.array(losses))\n",
    "plt.title(\"Learning curve\")\n",
    "plt.figure()\n",
    "plt.plot(data_x, model(data_x[:, None])[:,0].data, c='r')\n",
    "plt.scatter(data_x, data_y, c='b')\n",
    "_ = plt.title(\"Trained model fitness\")\n"
   ]
  },
  {
   "cell_type": "markdown",
   "metadata": {},
   "source": [
    "## Train your first deep model\n",
    "\n",
    "Now we have learned the basics of Chainer. We can use it to train a deep model to classify MNIST digits. We will train a model on the MNIST dataset because the dataset is small.\n",
    "\n",
    "First we load the data and see what the images look like:"
   ]
  },
  {
   "cell_type": "code",
   "execution_count": 12,
   "metadata": {
    "scrolled": false
   },
   "outputs": [
    {
     "name": "stderr",
     "output_type": "stream",
     "text": [
      "Downloading from http://yann.lecun.com/exdb/mnist/train-images-idx3-ubyte.gz...\n",
      "Downloading from http://yann.lecun.com/exdb/mnist/train-labels-idx1-ubyte.gz...\n",
      "Downloading from http://yann.lecun.com/exdb/mnist/t10k-images-idx3-ubyte.gz...\n",
      "Downloading from http://yann.lecun.com/exdb/mnist/t10k-labels-idx1-ubyte.gz...\n"
     ]
    },
    {
     "name": "stdout",
     "output_type": "stream",
     "text": [
      "train[i][0] is the ith image that's flattened, and has shape: (784,)\n",
      "train[i][1] is the ith image's label, such as: 3\n"
     ]
    },
    {
     "data": {
      "image/png": "[encoded data removed]",
      "text/plain": [
       "<matplotlib.figure.Figure at 0x9e43748>"
      ]
     },
     "metadata": {},
     "output_type": "display_data"
    },
    {
     "data": {
      "image/png": "[encoded data removed]",
      "text/plain": [
       "<matplotlib.figure.Figure at 0xa0930f0>"
      ]
     },
     "metadata": {},
     "output_type": "display_data"
    }
   ],
   "source": [
    "train, test = chainer.datasets.get_mnist()\n",
    "# use train[data_point_index] to access data\n",
    "print(\"train[i][0] is the ith image that's flattened, and has shape:\", train[12][0].shape)\n",
    "print(\"train[i][1] is the ith image's label, such as:\", train[12][1])\n",
    "# here we visualize two of them\n",
    "plt.imshow(train[12][0].reshape([28, 28,]))\n",
    "plt.title(\"Label: %s\" % train[12][1])\n",
    "plt.figure()\n",
    "plt.imshow(train[42][0].reshape([28, 28,]))\n",
    "_ = plt.title(\"Label: %s\" % train[42][1])"
   ]
  },
  {
   "cell_type": "markdown",
   "metadata": {},
   "source": [
    "Next we will provide some boilerplate code and train a linear classifier as an example:"
   ]
  },
  {
   "cell_type": "code",
   "execution_count": 13,
   "metadata": {},
   "outputs": [
    {
     "name": "stdout",
     "output_type": "stream",
     "text": [
      "accuracy: 0.0; loss: 2.44795298576\n",
      "accuracy: 0.865; loss: 0.608150519133\n",
      "accuracy: 0.875; loss: 0.476190109253\n",
      "accuracy: 0.895; loss: 0.384984177351\n",
      "accuracy: 0.895; loss: 0.370705761313\n",
      "accuracy: 0.9025; loss: 0.366878062487\n",
      "accuracy: 0.8925; loss: 0.349658022225\n",
      "accuracy: 0.885; loss: 0.348445186913\n",
      "accuracy: 0.905; loss: 0.367749609947\n",
      "accuracy: 0.915; loss: 0.313951142132\n",
      "accuracy: 0.9325; loss: 0.235615383387\n",
      "accuracy: 0.9325; loss: 0.304321626425\n",
      "accuracy: 0.9175; loss: 0.307206556499\n",
      "accuracy: 0.895; loss: 0.340669887066\n",
      "accuracy: 0.9025; loss: 0.380669412017\n",
      "accuracy: 0.9225; loss: 0.294745050371\n",
      "accuracy: 0.9125; loss: 0.354209874272\n",
      "accuracy: 0.9375; loss: 0.217807556391\n",
      "accuracy: 0.92; loss: 0.30856561482\n",
      "accuracy: 0.9075; loss: 0.335277917385\n",
      "accuracy: 0.92; loss: 0.286496829689\n",
      "accuracy: 0.9075; loss: 0.393969738185\n",
      "accuracy: 0.9; loss: 0.375521992445\n",
      "accuracy: 0.915; loss: 0.296468867064\n",
      "accuracy: 0.9075; loss: 0.332173291743\n",
      "accuracy: 0.9125; loss: 0.304228337109\n"
     ]
    }
   ],
   "source": [
    "def run(model, batchsize=16, num_epochs=2):\n",
    "    \n",
    "    optimizer = chainer.optimizers.Adam() # we will use chainer's Adam implementation instead of writing our own gradient based optimization\n",
    "    optimizer.setup(model)\n",
    "    \n",
    "    stats = defaultdict(lambda: deque(maxlen=25))\n",
    "    for epoch in range(num_epochs):\n",
    "        train_iter = chainer.iterators.SerialIterator(train, batchsize, repeat=False, shuffle=True)\n",
    "        test_iter = chainer.iterators.SerialIterator(test, batchsize, repeat=False, shuffle=False)\n",
    "        \n",
    "        for itr, batch in enumerate(train_iter):\n",
    "            xs = np.concatenate([datum[0][None, :] for datum in batch])\n",
    "            ys = np.array([datum[1] for datum in batch])\n",
    "\n",
    "            logits = model(xs)\n",
    "\n",
    "            loss = F.softmax_cross_entropy(logits, ys)\n",
    "            model.cleargrads()\n",
    "            loss.backward()\n",
    "            optimizer.update()\n",
    "            \n",
    "            # calculate stats\n",
    "            stats[\"loss\"].append(float(loss.data))\n",
    "            stats[\"accuracy\"].append(float((logits.data.argmax(1) == ys).sum() / batchsize))\n",
    "            if itr % 300 == 0:\n",
    "                print(\"; \".join(\"%s: %s\" % (k, np.mean(vs)) for k, vs in stats.items()))\n",
    "\n",
    "# try a simple linear model\n",
    "run(L.Linear(None, 10))"
   ]
  },
  {
   "cell_type": "markdown",
   "metadata": {},
   "source": [
    "Next we will try to improve performance by training an MLP instead. A partial implementation is provided for you to fill in:"
   ]
  },
  {
   "cell_type": "code",
   "execution_count": 15,
   "metadata": {},
   "outputs": [
    {
     "name": "stdout",
     "output_type": "stream",
     "text": [
      "accuracy: 0.0; loss: 2.35877680779\n",
      "accuracy: 0.8975; loss: 0.33423217535\n",
      "accuracy: 0.92; loss: 0.271918404102\n",
      "accuracy: 0.955; loss: 0.168628392816\n",
      "accuracy: 0.955; loss: 0.144607912302\n",
      "accuracy: 0.97; loss: 0.126524506509\n",
      "accuracy: 0.9425; loss: 0.203659748137\n",
      "accuracy: 0.9625; loss: 0.116335449517\n",
      "accuracy: 0.96; loss: 0.178455659747\n",
      "accuracy: 0.96; loss: 0.147115660906\n",
      "accuracy: 0.9375; loss: 0.226127509177\n",
      "accuracy: 0.9675; loss: 0.102847843766\n",
      "accuracy: 0.965; loss: 0.093325587213\n",
      "accuracy: 0.9425; loss: 0.138486852646\n",
      "accuracy: 0.9775; loss: 0.0847543254495\n",
      "accuracy: 0.9625; loss: 0.130942381918\n",
      "accuracy: 0.975; loss: 0.0730534780025\n",
      "accuracy: 0.9825; loss: 0.0743979287148\n",
      "accuracy: 0.98; loss: 0.0370593738556\n",
      "accuracy: 0.9725; loss: 0.0583773118258\n",
      "accuracy: 0.965; loss: 0.122195718288\n",
      "accuracy: 0.9625; loss: 0.0936497092247\n",
      "accuracy: 0.965; loss: 0.115572474897\n",
      "accuracy: 0.9725; loss: 0.0822986084223\n",
      "accuracy: 0.9825; loss: 0.0563766953349\n",
      "accuracy: 0.98; loss: 0.0662627544999\n"
     ]
    }
   ],
   "source": [
    "class MLP(chainer.Chain):\n",
    "\n",
    "    def __init__(self, n_units, n_out):\n",
    "        super(MLP, self).__init__()\n",
    "        with self.init_scope():\n",
    "            # the size of the inputs to each layer will be inferred\n",
    "            self.l1 = L.Linear(None, n_units)  # n_in -> n_units\n",
    "            self.l2 = L.Linear(None, n_units)  # n_units -> n_units\n",
    "            self.l3 = L.Linear(None, n_out)  # n_units -> n_out\n",
    "\n",
    "    def __call__(self, x):\n",
    "        # *** YOUR CODE HERE TO BUILD AN MLP W/ self.l1, self.l2, self.l3 ***\n",
    "        # \n",
    "        # Hint: you should make use of non-linearities / activation functions\n",
    "        #     https://docs.chainer.org/en/stable/reference/functions.html#activation-functions\n",
    "        \n",
    "        x = F.relu(self.l1(x))\n",
    "        x = F.relu(self.l2(x))\n",
    "        x = self.l3(x)\n",
    "        \n",
    "        return x\n",
    "run(MLP(200, 10))"
   ]
  },
  {
   "cell_type": "markdown",
   "metadata": {},
   "source": [
    "Next you should try to implement logging test loss and see if the model is overfitting."
   ]
  },
  {
   "cell_type": "code",
   "execution_count": 16,
   "metadata": {},
   "outputs": [
    {
     "name": "stdout",
     "output_type": "stream",
     "text": [
      "accuracy: 0.0625; loss_test: 2.26301; accuracy_test: 0.1525; loss: 2.34388136864\n",
      "accuracy: 0.865; loss_test: 1.28399; accuracy_test: 0.5313; loss: 0.460148823261\n",
      "accuracy: 0.915; loss_test: 0.933766; accuracy_test: 0.664233; loss: 0.307509633303\n",
      "accuracy: 0.9375; loss_test: 0.746413; accuracy_test: 0.73405; loss: 0.203145403266\n",
      "accuracy: 0.945; loss_test: 0.63121; accuracy_test: 0.77654; loss: 0.207028215528\n",
      "accuracy: 0.95; loss_test: 0.55355; accuracy_test: 0.80495; loss: 0.147600284219\n",
      "accuracy: 0.95; loss_test: 0.498906; accuracy_test: 0.825243; loss: 0.230890875459\n",
      "accuracy: 0.9625; loss_test: 0.452539; accuracy_test: 0.842038; loss: 0.149747612476\n",
      "accuracy: 0.9625; loss_test: 0.416379; accuracy_test: 0.855078; loss: 0.111675233245\n",
      "accuracy: 0.955; loss_test: 0.387427; accuracy_test: 0.86555; loss: 0.142055099308\n",
      "accuracy: 0.955; loss_test: 0.363061; accuracy_test: 0.874391; loss: 0.192387515604\n",
      "accuracy: 0.9525; loss_test: 0.342921; accuracy_test: 0.881783; loss: 0.132314412594\n",
      "accuracy: 0.9625; loss_test: 0.32481; accuracy_test: 0.888285; loss: 0.112080838978\n",
      "accuracy: 0.965; loss_test: 0.309071; accuracy_test: 0.893857; loss: 0.102438893616\n",
      "accuracy: 0.98; loss_test: 0.295221; accuracy_test: 0.8988; loss: 0.063442710638\n",
      "accuracy: 0.9575; loss_test: 0.282335; accuracy_test: 0.903425; loss: 0.128178195357\n",
      "accuracy: 0.9825; loss_test: 0.271299; accuracy_test: 0.907488; loss: 0.0559655883908\n",
      "accuracy: 0.98; loss_test: 0.261897; accuracy_test: 0.910844; loss: 0.0621698397398\n",
      "accuracy: 0.97; loss_test: 0.253509; accuracy_test: 0.913826; loss: 0.11591465354\n",
      "accuracy: 0.9825; loss_test: 0.24572; accuracy_test: 0.91655; loss: 0.0712933337688\n",
      "accuracy: 0.9675; loss_test: 0.238525; accuracy_test: 0.919095; loss: 0.0961271810532\n",
      "accuracy: 0.985; loss_test: 0.231177; accuracy_test: 0.921686; loss: 0.0518581327796\n",
      "accuracy: 0.9625; loss_test: 0.224956; accuracy_test: 0.923848; loss: 0.119387421608\n",
      "accuracy: 0.9825; loss_test: 0.219509; accuracy_test: 0.925796; loss: 0.0553853219748\n",
      "accuracy: 0.9775; loss_test: 0.213933; accuracy_test: 0.927736; loss: 0.0579642239213\n",
      "accuracy: 0.955; loss_test: 0.127335; accuracy_test: 0.960444; loss: 0.0985713925958\n"
     ]
    }
   ],
   "source": [
    "def better_run(model, batchsize=16, num_epochs=2):\n",
    "\n",
    "    optimizer = chainer.optimizers.Adam() # we will use chainer's Adam implementation instead of writing our own gradient based optimization\n",
    "    optimizer.setup(model)\n",
    "    \n",
    "    stats = defaultdict(lambda: deque(maxlen=25))\n",
    "    for epoch in range(num_epochs):\n",
    "        train_iter = chainer.iterators.SerialIterator(train, batchsize, repeat=False, shuffle=True)\n",
    "        for itr, batch in enumerate(train_iter):\n",
    "            xs = np.concatenate([datum[0][None, :] for datum in batch])\n",
    "            ys = np.array([datum[1] for datum in batch])\n",
    "\n",
    "            logits = model(xs)\n",
    "\n",
    "            loss = F.softmax_cross_entropy(logits, ys)\n",
    "            model.cleargrads()\n",
    "            loss.backward()\n",
    "            optimizer.update()\n",
    "            \n",
    "            # calculate stats\n",
    "            stats[\"loss\"].append(float(loss.data))\n",
    "            stats[\"accuracy\"].append(float((logits.data.argmax(1) == ys).sum() / batchsize))\n",
    "            if itr % 300 == 0:\n",
    "                test_iter = chainer.iterators.SerialIterator(test, batchsize, repeat=False, shuffle=False)\n",
    "                # *** YOUR CODE implement logging of stats on test set ***\n",
    "                xs_test = np.concatenate([datum[0][None, :] for datum in test])\n",
    "                ys_test = np.array([datum[1] for datum in test])\n",
    "                logits_test = model(xs_test)\n",
    "                loss_test = F.softmax_cross_entropy(logits_test, ys_test)\n",
    "                accuracy_test = F.accuracy(logits_test, ys_test)\n",
    "                stats['loss_test'].append(loss_test.data)\n",
    "                stats['accuracy_test'].append(accuracy_test.data)\n",
    "                print(\"; \".join(\"%s: %s\" % (k, np.mean(vs)) for k, vs in stats.items()))\n",
    "\n",
    "better_run(MLP(200, 10))"
   ]
  },
  {
   "cell_type": "markdown",
   "metadata": {},
   "source": [
    "Try different variants!\n",
    "\n",
    "- Does using a ConvNet improve performance (reduce overfitting?)\n",
    "- Try changing the learning rate and observe the effect\n",
    "- Does the model train if you give it correlated gradients? (consecutively sample many batches of \"1\", then many batches of \"2\", ... etc"
   ]
  }
 ],
 "metadata": {
  "kernelspec": {
   "display_name": "Python 3",
   "language": "python",
   "name": "python3"
  },
  "language_info": {
   "codemirror_mode": {
    "name": "ipython",
    "version": 3
   },
   "file_extension": ".py",
   "mimetype": "text/x-python",
   "name": "python",
   "nbconvert_exporter": "python",
   "pygments_lexer": "ipython3",
   "version": "3.5.2"
  }
 },
 "nbformat": 4,
 "nbformat_minor": 1
}
