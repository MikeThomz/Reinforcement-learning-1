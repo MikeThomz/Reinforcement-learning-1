{
 "cells": [
  {
   "cell_type": "code",
   "execution_count": 1,
   "metadata": {
    "collapsed": true
   },
   "outputs": [],
   "source": [
    "from utilities import Maze, QLearningTable\n",
    "import numpy as np\n",
    "\n",
    "def update():\n",
    "    for episode in range(200):\n",
    "        \n",
    "        # initial observation\n",
    "        observation = env.reset()\n",
    "        \n",
    "        while True:\n",
    "            # fresh env\n",
    "            env.render()\n",
    "\n",
    "            # RL choose action based on observation\n",
    "            action = RL.choose_action(str(observation))\n",
    "\n",
    "            # RL take action and get next observation and reward\n",
    "            observation_, reward, done = env.step(action)\n",
    "\n",
    "            # RL update Q matrix \n",
    "            RL.learn(str(observation), action, reward, str(observation_))\n",
    "\n",
    "            # swap observation\n",
    "            observation = observation_\n",
    "\n",
    "            # break while loop when end of this episode\n",
    "            if done:\n",
    "                break\n",
    "\n",
    "    # end of game\n",
    "    print('game over')\n",
    "    env.destroy()\n"
   ]
  },
  {
   "cell_type": "code",
   "execution_count": 2,
   "metadata": {
    "collapsed": true
   },
   "outputs": [],
   "source": [
    "env = Maze(8,11,40)"
   ]
  },
  {
   "cell_type": "code",
   "execution_count": 3,
   "metadata": {
    "collapsed": true
   },
   "outputs": [],
   "source": [
    "RL = QLearningTable(actions=list(range(env.n_actions)))"
   ]
  },
  {
   "cell_type": "code",
   "execution_count": 4,
   "metadata": {},
   "outputs": [
    {
     "name": "stderr",
     "output_type": "stream",
     "text": [
      "Exception in Tkinter callback\n",
      "Traceback (most recent call last):\n",
      "  File \"C:\\Users\\Isaac\\Documents\\miniconda3\\envs\\carnd-term1\\lib\\tkinter\\__init__.py\", line 1550, in __call__\n",
      "    return self.func(*args)\n",
      "  File \"C:\\Users\\Isaac\\Documents\\miniconda3\\envs\\carnd-term1\\lib\\tkinter\\__init__.py\", line 596, in callit\n",
      "    func(*args)\n",
      "  File \"<ipython-input-1-1f7c84d5ecf0>\", line 18, in update\n",
      "    observation_, reward, done = env.step(action)\n",
      "  File \"C:\\Users\\Isaac\\Documents\\python\\my_notebooks\\AAI_ch2\\utilities.py\", line 136, in step\n",
      "    s = self.canvas.coords(self.rect)\n",
      "  File \"C:\\Users\\Isaac\\Documents\\miniconda3\\envs\\carnd-term1\\lib\\tkinter\\__init__.py\", line 2309, in coords\n",
      "    self.tk.call((self._w, 'coords') + args))]\n",
      "_tkinter.TclError: invalid command name \".1437422405728\"\n"
     ]
    }
   ],
   "source": [
    "env.after(100,update)\n",
    "env.mainloop()"
   ]
  },
  {
   "cell_type": "code",
   "execution_count": null,
   "metadata": {
    "collapsed": true
   },
   "outputs": [],
   "source": []
  }
 ],
 "metadata": {
  "kernelspec": {
   "display_name": "Python 3",
   "language": "python",
   "name": "python3"
  },
  "language_info": {
   "codemirror_mode": {
    "name": "ipython",
    "version": 3
   },
   "file_extension": ".py",
   "mimetype": "text/x-python",
   "name": "python",
   "nbconvert_exporter": "python",
   "pygments_lexer": "ipython3",
   "version": "3.5.2"
  },
  "widgets": {
   "state": {},
   "version": "1.1.2"
  }
 },
 "nbformat": 4,
 "nbformat_minor": 2
}
